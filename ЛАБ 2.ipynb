{
  "nbformat": 4,
  "nbformat_minor": 0,
  "metadata": {
    "colab": {
      "name": "Untitled5.ipynb",
      "provenance": [],
      "authorship_tag": "ABX9TyPuARyNG9BhXj3CpLpEWQiQ",
      "include_colab_link": true
    },
    "kernelspec": {
      "name": "python3",
      "display_name": "Python 3"
    }
  },
  "cells": [
    {
      "cell_type": "markdown",
      "metadata": {
        "id": "view-in-github",
        "colab_type": "text"
      },
      "source": [
        "<a href=\"https://colab.research.google.com/github/myozaw5288/git/blob/master/%D0%9B%D0%90%D0%91%202.ipynb\" target=\"_parent\"><img src=\"https://colab.research.google.com/assets/colab-badge.svg\" alt=\"Open In Colab\"/></a>"
      ]
    },
    {
      "cell_type": "code",
      "metadata": {
        "id": "C2VDJ-hkO-bt"
      },
      "source": [
        "import pandas as pd"
      ],
      "execution_count": 1,
      "outputs": []
    },
    {
      "cell_type": "code",
      "metadata": {
        "id": "jQiYb4j1P9RT"
      },
      "source": [
        "pd.set_option(\"display.width\", 70)"
      ],
      "execution_count": 2,
      "outputs": []
    },
    {
      "cell_type": "code",
      "metadata": {
        "colab": {
          "base_uri": "https://localhost:8080/",
          "height": 363
        },
        "id": "eNAhcRvpQBCy",
        "outputId": "58224d08-16a8-462c-d0f3-8f4eba50c9b1"
      },
      "source": [
        "data = pd.read_csv('adult.data.csv')\r\n",
        "data.head()"
      ],
      "execution_count": 3,
      "outputs": [
        {
          "output_type": "execute_result",
          "data": {
            "text/html": [
              "<div>\n",
              "<style scoped>\n",
              "    .dataframe tbody tr th:only-of-type {\n",
              "        vertical-align: middle;\n",
              "    }\n",
              "\n",
              "    .dataframe tbody tr th {\n",
              "        vertical-align: top;\n",
              "    }\n",
              "\n",
              "    .dataframe thead th {\n",
              "        text-align: right;\n",
              "    }\n",
              "</style>\n",
              "<table border=\"1\" class=\"dataframe\">\n",
              "  <thead>\n",
              "    <tr style=\"text-align: right;\">\n",
              "      <th></th>\n",
              "      <th>age</th>\n",
              "      <th>workclass</th>\n",
              "      <th>fnlwgt</th>\n",
              "      <th>education</th>\n",
              "      <th>education-num</th>\n",
              "      <th>marital-status</th>\n",
              "      <th>occupation</th>\n",
              "      <th>relationship</th>\n",
              "      <th>race</th>\n",
              "      <th>sex</th>\n",
              "      <th>capital-gain</th>\n",
              "      <th>capital-loss</th>\n",
              "      <th>hours-per-week</th>\n",
              "      <th>native-country</th>\n",
              "      <th>salary</th>\n",
              "    </tr>\n",
              "  </thead>\n",
              "  <tbody>\n",
              "    <tr>\n",
              "      <th>0</th>\n",
              "      <td>39</td>\n",
              "      <td>State-gov</td>\n",
              "      <td>77516</td>\n",
              "      <td>Bachelors</td>\n",
              "      <td>13</td>\n",
              "      <td>Never-married</td>\n",
              "      <td>Adm-clerical</td>\n",
              "      <td>Not-in-family</td>\n",
              "      <td>White</td>\n",
              "      <td>Male</td>\n",
              "      <td>2174</td>\n",
              "      <td>0</td>\n",
              "      <td>40</td>\n",
              "      <td>United-States</td>\n",
              "      <td>&lt;=50K</td>\n",
              "    </tr>\n",
              "    <tr>\n",
              "      <th>1</th>\n",
              "      <td>50</td>\n",
              "      <td>Self-emp-not-inc</td>\n",
              "      <td>83311</td>\n",
              "      <td>Bachelors</td>\n",
              "      <td>13</td>\n",
              "      <td>Married-civ-spouse</td>\n",
              "      <td>Exec-managerial</td>\n",
              "      <td>Husband</td>\n",
              "      <td>White</td>\n",
              "      <td>Male</td>\n",
              "      <td>0</td>\n",
              "      <td>0</td>\n",
              "      <td>13</td>\n",
              "      <td>United-States</td>\n",
              "      <td>&lt;=50K</td>\n",
              "    </tr>\n",
              "    <tr>\n",
              "      <th>2</th>\n",
              "      <td>38</td>\n",
              "      <td>Private</td>\n",
              "      <td>215646</td>\n",
              "      <td>HS-grad</td>\n",
              "      <td>9</td>\n",
              "      <td>Divorced</td>\n",
              "      <td>Handlers-cleaners</td>\n",
              "      <td>Not-in-family</td>\n",
              "      <td>White</td>\n",
              "      <td>Male</td>\n",
              "      <td>0</td>\n",
              "      <td>0</td>\n",
              "      <td>40</td>\n",
              "      <td>United-States</td>\n",
              "      <td>&lt;=50K</td>\n",
              "    </tr>\n",
              "    <tr>\n",
              "      <th>3</th>\n",
              "      <td>53</td>\n",
              "      <td>Private</td>\n",
              "      <td>234721</td>\n",
              "      <td>11th</td>\n",
              "      <td>7</td>\n",
              "      <td>Married-civ-spouse</td>\n",
              "      <td>Handlers-cleaners</td>\n",
              "      <td>Husband</td>\n",
              "      <td>Black</td>\n",
              "      <td>Male</td>\n",
              "      <td>0</td>\n",
              "      <td>0</td>\n",
              "      <td>40</td>\n",
              "      <td>United-States</td>\n",
              "      <td>&lt;=50K</td>\n",
              "    </tr>\n",
              "    <tr>\n",
              "      <th>4</th>\n",
              "      <td>28</td>\n",
              "      <td>Private</td>\n",
              "      <td>338409</td>\n",
              "      <td>Bachelors</td>\n",
              "      <td>13</td>\n",
              "      <td>Married-civ-spouse</td>\n",
              "      <td>Prof-specialty</td>\n",
              "      <td>Wife</td>\n",
              "      <td>Black</td>\n",
              "      <td>Female</td>\n",
              "      <td>0</td>\n",
              "      <td>0</td>\n",
              "      <td>40</td>\n",
              "      <td>Cuba</td>\n",
              "      <td>&lt;=50K</td>\n",
              "    </tr>\n",
              "  </tbody>\n",
              "</table>\n",
              "</div>"
            ],
            "text/plain": [
              "   age         workclass  fnlwgt  ... hours-per-week  native-country salary\n",
              "0   39         State-gov   77516  ...             40   United-States  <=50K\n",
              "1   50  Self-emp-not-inc   83311  ...             13   United-States  <=50K\n",
              "2   38           Private  215646  ...             40   United-States  <=50K\n",
              "3   53           Private  234721  ...             40   United-States  <=50K\n",
              "4   28           Private  338409  ...             40            Cuba  <=50K\n",
              "\n",
              "[5 rows x 15 columns]"
            ]
          },
          "metadata": {
            "tags": []
          },
          "execution_count": 3
        }
      ]
    },
    {
      "cell_type": "code",
      "metadata": {
        "colab": {
          "base_uri": "https://localhost:8080/"
        },
        "id": "oz-4nRw8QHgm",
        "outputId": "e449ddc2-0217-4c88-e175-47b35d95cde8"
      },
      "source": [
        "data[\"sex\"].value_counts()"
      ],
      "execution_count": 4,
      "outputs": [
        {
          "output_type": "execute_result",
          "data": {
            "text/plain": [
              "Male      21790\n",
              "Female    10771\n",
              "Name: sex, dtype: int64"
            ]
          },
          "metadata": {
            "tags": []
          },
          "execution_count": 4
        }
      ]
    },
    {
      "cell_type": "code",
      "metadata": {
        "colab": {
          "base_uri": "https://localhost:8080/"
        },
        "id": "1hPEELgXQMaV",
        "outputId": "fa2621dd-3bde-42cb-99cd-c39d50fc5646"
      },
      "source": [
        "data[data[\"sex\"] == \"Female\"][\"age\"].mean()"
      ],
      "execution_count": 5,
      "outputs": [
        {
          "output_type": "execute_result",
          "data": {
            "text/plain": [
              "36.85823043357163"
            ]
          },
          "metadata": {
            "tags": []
          },
          "execution_count": 5
        }
      ]
    },
    {
      "cell_type": "code",
      "metadata": {
        "colab": {
          "base_uri": "https://localhost:8080/"
        },
        "id": "XJQbVyGVQSDL",
        "outputId": "9de2bf83-1109-4f12-ad3e-b79114d45988"
      },
      "source": [
        "print(\"{0:%}\".format(data[data[\"native-country\"] == \"Germany\"]\r\n",
        ".shape[0] / data.shape[0]))"
      ],
      "execution_count": 6,
      "outputs": [
        {
          "output_type": "stream",
          "text": [
            "0.420749%\n"
          ],
          "name": "stdout"
        }
      ]
    },
    {
      "cell_type": "code",
      "metadata": {
        "colab": {
          "base_uri": "https://localhost:8080/"
        },
        "id": "EXEzbmZwQXIM",
        "outputId": "99490a2c-93ff-4415-fa21-a571eba25bdb"
      },
      "source": [
        "ages1 = data[data[\"salary\"] == \"<=50K\"][\"age\"]\r\n",
        "ages2 = data[data[\"salary\"] == \">50K\"][\"age\"]\r\n",
        "print(\"<=50K: = {0} ± {1} years\".format(ages1.mean(), ages1.std()))\r\n",
        "print(\" >50K: = {0} ± {1} years\".format(ages2.mean(), ages2.std()))"
      ],
      "execution_count": 7,
      "outputs": [
        {
          "output_type": "stream",
          "text": [
            "<=50K: = 36.78373786407767 ± 14.020088490824813 years\n",
            " >50K: = 44.24984058155847 ± 10.51902771985177 years\n"
          ],
          "name": "stdout"
        }
      ]
    },
    {
      "cell_type": "code",
      "metadata": {
        "colab": {
          "base_uri": "https://localhost:8080/"
        },
        "id": "rUU9H51NQdB5",
        "outputId": "a3d0fe9e-a3ca-45c2-e2a0-447dc2e643b3"
      },
      "source": [
        "high_educations = set([\"Bachelors\", \"Prof-school\", \"Assoc-acdm\",\r\n",
        "\"Assoc-voc\", \"Masters\", \"Doctorate\"])\r\n",
        "def high_educated(e):\r\n",
        "  return e in high_educations\r\n",
        "data[data[\"salary\"] == \">50K\"][\"education\"].map(high_educated).all()"
      ],
      "execution_count": 8,
      "outputs": [
        {
          "output_type": "execute_result",
          "data": {
            "text/plain": [
              "False"
            ]
          },
          "metadata": {
            "tags": []
          },
          "execution_count": 8
        }
      ]
    },
    {
      "cell_type": "code",
      "metadata": {
        "colab": {
          "base_uri": "https://localhost:8080/",
          "height": 373
        },
        "id": "P6ZzR7nEQj0R",
        "outputId": "378364dc-cb74-4210-b5d0-06f9c3600fa0"
      },
      "source": [
        "data.groupby([\"race\", \"sex\"])[\"age\"].describe()"
      ],
      "execution_count": 9,
      "outputs": [
        {
          "output_type": "execute_result",
          "data": {
            "text/html": [
              "<div>\n",
              "<style scoped>\n",
              "    .dataframe tbody tr th:only-of-type {\n",
              "        vertical-align: middle;\n",
              "    }\n",
              "\n",
              "    .dataframe tbody tr th {\n",
              "        vertical-align: top;\n",
              "    }\n",
              "\n",
              "    .dataframe thead th {\n",
              "        text-align: right;\n",
              "    }\n",
              "</style>\n",
              "<table border=\"1\" class=\"dataframe\">\n",
              "  <thead>\n",
              "    <tr style=\"text-align: right;\">\n",
              "      <th></th>\n",
              "      <th></th>\n",
              "      <th>count</th>\n",
              "      <th>mean</th>\n",
              "      <th>std</th>\n",
              "      <th>min</th>\n",
              "      <th>25%</th>\n",
              "      <th>50%</th>\n",
              "      <th>75%</th>\n",
              "      <th>max</th>\n",
              "    </tr>\n",
              "    <tr>\n",
              "      <th>race</th>\n",
              "      <th>sex</th>\n",
              "      <th></th>\n",
              "      <th></th>\n",
              "      <th></th>\n",
              "      <th></th>\n",
              "      <th></th>\n",
              "      <th></th>\n",
              "      <th></th>\n",
              "      <th></th>\n",
              "    </tr>\n",
              "  </thead>\n",
              "  <tbody>\n",
              "    <tr>\n",
              "      <th rowspan=\"2\" valign=\"top\">Amer-Indian-Eskimo</th>\n",
              "      <th>Female</th>\n",
              "      <td>119.0</td>\n",
              "      <td>37.117647</td>\n",
              "      <td>13.114991</td>\n",
              "      <td>17.0</td>\n",
              "      <td>27.0</td>\n",
              "      <td>36.0</td>\n",
              "      <td>46.00</td>\n",
              "      <td>80.0</td>\n",
              "    </tr>\n",
              "    <tr>\n",
              "      <th>Male</th>\n",
              "      <td>192.0</td>\n",
              "      <td>37.208333</td>\n",
              "      <td>12.049563</td>\n",
              "      <td>17.0</td>\n",
              "      <td>28.0</td>\n",
              "      <td>35.0</td>\n",
              "      <td>45.00</td>\n",
              "      <td>82.0</td>\n",
              "    </tr>\n",
              "    <tr>\n",
              "      <th rowspan=\"2\" valign=\"top\">Asian-Pac-Islander</th>\n",
              "      <th>Female</th>\n",
              "      <td>346.0</td>\n",
              "      <td>35.089595</td>\n",
              "      <td>12.300845</td>\n",
              "      <td>17.0</td>\n",
              "      <td>25.0</td>\n",
              "      <td>33.0</td>\n",
              "      <td>43.75</td>\n",
              "      <td>75.0</td>\n",
              "    </tr>\n",
              "    <tr>\n",
              "      <th>Male</th>\n",
              "      <td>693.0</td>\n",
              "      <td>39.073593</td>\n",
              "      <td>12.883944</td>\n",
              "      <td>18.0</td>\n",
              "      <td>29.0</td>\n",
              "      <td>37.0</td>\n",
              "      <td>46.00</td>\n",
              "      <td>90.0</td>\n",
              "    </tr>\n",
              "    <tr>\n",
              "      <th rowspan=\"2\" valign=\"top\">Black</th>\n",
              "      <th>Female</th>\n",
              "      <td>1555.0</td>\n",
              "      <td>37.854019</td>\n",
              "      <td>12.637197</td>\n",
              "      <td>17.0</td>\n",
              "      <td>28.0</td>\n",
              "      <td>37.0</td>\n",
              "      <td>46.00</td>\n",
              "      <td>90.0</td>\n",
              "    </tr>\n",
              "    <tr>\n",
              "      <th>Male</th>\n",
              "      <td>1569.0</td>\n",
              "      <td>37.682600</td>\n",
              "      <td>12.882612</td>\n",
              "      <td>17.0</td>\n",
              "      <td>27.0</td>\n",
              "      <td>36.0</td>\n",
              "      <td>46.00</td>\n",
              "      <td>90.0</td>\n",
              "    </tr>\n",
              "    <tr>\n",
              "      <th rowspan=\"2\" valign=\"top\">Other</th>\n",
              "      <th>Female</th>\n",
              "      <td>109.0</td>\n",
              "      <td>31.678899</td>\n",
              "      <td>11.631599</td>\n",
              "      <td>17.0</td>\n",
              "      <td>23.0</td>\n",
              "      <td>29.0</td>\n",
              "      <td>39.00</td>\n",
              "      <td>74.0</td>\n",
              "    </tr>\n",
              "    <tr>\n",
              "      <th>Male</th>\n",
              "      <td>162.0</td>\n",
              "      <td>34.654321</td>\n",
              "      <td>11.355531</td>\n",
              "      <td>17.0</td>\n",
              "      <td>26.0</td>\n",
              "      <td>32.0</td>\n",
              "      <td>42.00</td>\n",
              "      <td>77.0</td>\n",
              "    </tr>\n",
              "    <tr>\n",
              "      <th rowspan=\"2\" valign=\"top\">White</th>\n",
              "      <th>Female</th>\n",
              "      <td>8642.0</td>\n",
              "      <td>36.811618</td>\n",
              "      <td>14.329093</td>\n",
              "      <td>17.0</td>\n",
              "      <td>25.0</td>\n",
              "      <td>35.0</td>\n",
              "      <td>46.00</td>\n",
              "      <td>90.0</td>\n",
              "    </tr>\n",
              "    <tr>\n",
              "      <th>Male</th>\n",
              "      <td>19174.0</td>\n",
              "      <td>39.652498</td>\n",
              "      <td>13.436029</td>\n",
              "      <td>17.0</td>\n",
              "      <td>29.0</td>\n",
              "      <td>38.0</td>\n",
              "      <td>49.00</td>\n",
              "      <td>90.0</td>\n",
              "    </tr>\n",
              "  </tbody>\n",
              "</table>\n",
              "</div>"
            ],
            "text/plain": [
              "                             count       mean        std  ...   50%    75%   max\n",
              "race               sex                                    ...                   \n",
              "Amer-Indian-Eskimo Female    119.0  37.117647  13.114991  ...  36.0  46.00  80.0\n",
              "                   Male      192.0  37.208333  12.049563  ...  35.0  45.00  82.0\n",
              "Asian-Pac-Islander Female    346.0  35.089595  12.300845  ...  33.0  43.75  75.0\n",
              "                   Male      693.0  39.073593  12.883944  ...  37.0  46.00  90.0\n",
              "Black              Female   1555.0  37.854019  12.637197  ...  37.0  46.00  90.0\n",
              "                   Male     1569.0  37.682600  12.882612  ...  36.0  46.00  90.0\n",
              "Other              Female    109.0  31.678899  11.631599  ...  29.0  39.00  74.0\n",
              "                   Male      162.0  34.654321  11.355531  ...  32.0  42.00  77.0\n",
              "White              Female   8642.0  36.811618  14.329093  ...  35.0  46.00  90.0\n",
              "                   Male    19174.0  39.652498  13.436029  ...  38.0  49.00  90.0\n",
              "\n",
              "[10 rows x 8 columns]"
            ]
          },
          "metadata": {
            "tags": []
          },
          "execution_count": 9
        }
      ]
    },
    {
      "cell_type": "code",
      "metadata": {
        "colab": {
          "base_uri": "https://localhost:8080/"
        },
        "id": "BcBXz4SBQpzD",
        "outputId": "05c3c1f4-8c20-46d2-c537-b0dbc4c867e1"
      },
      "source": [
        "data[(data[\"race\"] == \"Amer-Indian-Eskimo\")\r\n",
        "& (data[\"sex\"] == \"Male\")][\"age\"].max()"
      ],
      "execution_count": 10,
      "outputs": [
        {
          "output_type": "execute_result",
          "data": {
            "text/plain": [
              "82"
            ]
          },
          "metadata": {
            "tags": []
          },
          "execution_count": 10
        }
      ]
    },
    {
      "cell_type": "code",
      "metadata": {
        "colab": {
          "base_uri": "https://localhost:8080/"
        },
        "id": "V0y6LQyyQu_E",
        "outputId": "f2794ecd-98a6-4fb0-85c6-e01952a5307d"
      },
      "source": [
        "def is_married(m):\r\n",
        "  return m.startswith(\"Married\")\r\n",
        "data[\"married\"] = data[\"marital-status\"].map(is_married)\r\n",
        "(data[(data[\"sex\"] == \"Male\") & (data[\"salary\"] == \">50K\")]\r\n",
        "[\"married\"].value_counts())"
      ],
      "execution_count": 11,
      "outputs": [
        {
          "output_type": "execute_result",
          "data": {
            "text/plain": [
              "True     5965\n",
              "False     697\n",
              "Name: married, dtype: int64"
            ]
          },
          "metadata": {
            "tags": []
          },
          "execution_count": 11
        }
      ]
    },
    {
      "cell_type": "code",
      "metadata": {
        "colab": {
          "base_uri": "https://localhost:8080/"
        },
        "id": "4mDyUr_1Qz5o",
        "outputId": "1efe7164-bac8-4988-ecf4-9c8b032675c9"
      },
      "source": [
        "m = data[\"hours-per-week\"].max()\r\n",
        "print(\"Maximum is {} hours/week.\".format(m))\r\n",
        "people = data[data[\"hours-per-week\"] == m]\r\n",
        "c = people.shape[0]\r\n",
        "print(\"{} people work this time at week.\".format(c))\r\n",
        "s = people[people[\"salary\"] == \">50K\"].shape[0]\r\n",
        "print(\"{0:%} get >50K salary.\".format(s / c))"
      ],
      "execution_count": 12,
      "outputs": [
        {
          "output_type": "stream",
          "text": [
            "Maximum is 99 hours/week.\n",
            "85 people work this time at week.\n",
            "29.411765% get >50K salary.\n"
          ],
          "name": "stdout"
        }
      ]
    },
    {
      "cell_type": "code",
      "metadata": {
        "colab": {
          "base_uri": "https://localhost:8080/",
          "height": 1000
        },
        "id": "XnmnYj-ORG4_",
        "outputId": "fa27ee91-0e9d-4e9c-e316-4863afcb45c2"
      },
      "source": [
        "p = pd.crosstab(data[\"native-country\"], data[\"salary\"],\r\n",
        "values=data['hours-per-week'], aggfunc=\"mean\")\r\n",
        "p"
      ],
      "execution_count": 13,
      "outputs": [
        {
          "output_type": "execute_result",
          "data": {
            "text/html": [
              "<div>\n",
              "<style scoped>\n",
              "    .dataframe tbody tr th:only-of-type {\n",
              "        vertical-align: middle;\n",
              "    }\n",
              "\n",
              "    .dataframe tbody tr th {\n",
              "        vertical-align: top;\n",
              "    }\n",
              "\n",
              "    .dataframe thead th {\n",
              "        text-align: right;\n",
              "    }\n",
              "</style>\n",
              "<table border=\"1\" class=\"dataframe\">\n",
              "  <thead>\n",
              "    <tr style=\"text-align: right;\">\n",
              "      <th>salary</th>\n",
              "      <th>&lt;=50K</th>\n",
              "      <th>&gt;50K</th>\n",
              "    </tr>\n",
              "    <tr>\n",
              "      <th>native-country</th>\n",
              "      <th></th>\n",
              "      <th></th>\n",
              "    </tr>\n",
              "  </thead>\n",
              "  <tbody>\n",
              "    <tr>\n",
              "      <th>?</th>\n",
              "      <td>40.164760</td>\n",
              "      <td>45.547945</td>\n",
              "    </tr>\n",
              "    <tr>\n",
              "      <th>Cambodia</th>\n",
              "      <td>41.416667</td>\n",
              "      <td>40.000000</td>\n",
              "    </tr>\n",
              "    <tr>\n",
              "      <th>Canada</th>\n",
              "      <td>37.914634</td>\n",
              "      <td>45.641026</td>\n",
              "    </tr>\n",
              "    <tr>\n",
              "      <th>China</th>\n",
              "      <td>37.381818</td>\n",
              "      <td>38.900000</td>\n",
              "    </tr>\n",
              "    <tr>\n",
              "      <th>Columbia</th>\n",
              "      <td>38.684211</td>\n",
              "      <td>50.000000</td>\n",
              "    </tr>\n",
              "    <tr>\n",
              "      <th>Cuba</th>\n",
              "      <td>37.985714</td>\n",
              "      <td>42.440000</td>\n",
              "    </tr>\n",
              "    <tr>\n",
              "      <th>Dominican-Republic</th>\n",
              "      <td>42.338235</td>\n",
              "      <td>47.000000</td>\n",
              "    </tr>\n",
              "    <tr>\n",
              "      <th>Ecuador</th>\n",
              "      <td>38.041667</td>\n",
              "      <td>48.750000</td>\n",
              "    </tr>\n",
              "    <tr>\n",
              "      <th>El-Salvador</th>\n",
              "      <td>36.030928</td>\n",
              "      <td>45.000000</td>\n",
              "    </tr>\n",
              "    <tr>\n",
              "      <th>England</th>\n",
              "      <td>40.483333</td>\n",
              "      <td>44.533333</td>\n",
              "    </tr>\n",
              "    <tr>\n",
              "      <th>France</th>\n",
              "      <td>41.058824</td>\n",
              "      <td>50.750000</td>\n",
              "    </tr>\n",
              "    <tr>\n",
              "      <th>Germany</th>\n",
              "      <td>39.139785</td>\n",
              "      <td>44.977273</td>\n",
              "    </tr>\n",
              "    <tr>\n",
              "      <th>Greece</th>\n",
              "      <td>41.809524</td>\n",
              "      <td>50.625000</td>\n",
              "    </tr>\n",
              "    <tr>\n",
              "      <th>Guatemala</th>\n",
              "      <td>39.360656</td>\n",
              "      <td>36.666667</td>\n",
              "    </tr>\n",
              "    <tr>\n",
              "      <th>Haiti</th>\n",
              "      <td>36.325000</td>\n",
              "      <td>42.750000</td>\n",
              "    </tr>\n",
              "    <tr>\n",
              "      <th>Holand-Netherlands</th>\n",
              "      <td>40.000000</td>\n",
              "      <td>NaN</td>\n",
              "    </tr>\n",
              "    <tr>\n",
              "      <th>Honduras</th>\n",
              "      <td>34.333333</td>\n",
              "      <td>60.000000</td>\n",
              "    </tr>\n",
              "    <tr>\n",
              "      <th>Hong</th>\n",
              "      <td>39.142857</td>\n",
              "      <td>45.000000</td>\n",
              "    </tr>\n",
              "    <tr>\n",
              "      <th>Hungary</th>\n",
              "      <td>31.300000</td>\n",
              "      <td>50.000000</td>\n",
              "    </tr>\n",
              "    <tr>\n",
              "      <th>India</th>\n",
              "      <td>38.233333</td>\n",
              "      <td>46.475000</td>\n",
              "    </tr>\n",
              "    <tr>\n",
              "      <th>Iran</th>\n",
              "      <td>41.440000</td>\n",
              "      <td>47.500000</td>\n",
              "    </tr>\n",
              "    <tr>\n",
              "      <th>Ireland</th>\n",
              "      <td>40.947368</td>\n",
              "      <td>48.000000</td>\n",
              "    </tr>\n",
              "    <tr>\n",
              "      <th>Italy</th>\n",
              "      <td>39.625000</td>\n",
              "      <td>45.400000</td>\n",
              "    </tr>\n",
              "    <tr>\n",
              "      <th>Jamaica</th>\n",
              "      <td>38.239437</td>\n",
              "      <td>41.100000</td>\n",
              "    </tr>\n",
              "    <tr>\n",
              "      <th>Japan</th>\n",
              "      <td>41.000000</td>\n",
              "      <td>47.958333</td>\n",
              "    </tr>\n",
              "    <tr>\n",
              "      <th>Laos</th>\n",
              "      <td>40.375000</td>\n",
              "      <td>40.000000</td>\n",
              "    </tr>\n",
              "    <tr>\n",
              "      <th>Mexico</th>\n",
              "      <td>40.003279</td>\n",
              "      <td>46.575758</td>\n",
              "    </tr>\n",
              "    <tr>\n",
              "      <th>Nicaragua</th>\n",
              "      <td>36.093750</td>\n",
              "      <td>37.500000</td>\n",
              "    </tr>\n",
              "    <tr>\n",
              "      <th>Outlying-US(Guam-USVI-etc)</th>\n",
              "      <td>41.857143</td>\n",
              "      <td>NaN</td>\n",
              "    </tr>\n",
              "    <tr>\n",
              "      <th>Peru</th>\n",
              "      <td>35.068966</td>\n",
              "      <td>40.000000</td>\n",
              "    </tr>\n",
              "    <tr>\n",
              "      <th>Philippines</th>\n",
              "      <td>38.065693</td>\n",
              "      <td>43.032787</td>\n",
              "    </tr>\n",
              "    <tr>\n",
              "      <th>Poland</th>\n",
              "      <td>38.166667</td>\n",
              "      <td>39.000000</td>\n",
              "    </tr>\n",
              "    <tr>\n",
              "      <th>Portugal</th>\n",
              "      <td>41.939394</td>\n",
              "      <td>41.500000</td>\n",
              "    </tr>\n",
              "    <tr>\n",
              "      <th>Puerto-Rico</th>\n",
              "      <td>38.470588</td>\n",
              "      <td>39.416667</td>\n",
              "    </tr>\n",
              "    <tr>\n",
              "      <th>Scotland</th>\n",
              "      <td>39.444444</td>\n",
              "      <td>46.666667</td>\n",
              "    </tr>\n",
              "    <tr>\n",
              "      <th>South</th>\n",
              "      <td>40.156250</td>\n",
              "      <td>51.437500</td>\n",
              "    </tr>\n",
              "    <tr>\n",
              "      <th>Taiwan</th>\n",
              "      <td>33.774194</td>\n",
              "      <td>46.800000</td>\n",
              "    </tr>\n",
              "    <tr>\n",
              "      <th>Thailand</th>\n",
              "      <td>42.866667</td>\n",
              "      <td>58.333333</td>\n",
              "    </tr>\n",
              "    <tr>\n",
              "      <th>Trinadad&amp;Tobago</th>\n",
              "      <td>37.058824</td>\n",
              "      <td>40.000000</td>\n",
              "    </tr>\n",
              "    <tr>\n",
              "      <th>United-States</th>\n",
              "      <td>38.799127</td>\n",
              "      <td>45.505369</td>\n",
              "    </tr>\n",
              "    <tr>\n",
              "      <th>Vietnam</th>\n",
              "      <td>37.193548</td>\n",
              "      <td>39.200000</td>\n",
              "    </tr>\n",
              "    <tr>\n",
              "      <th>Yugoslavia</th>\n",
              "      <td>41.600000</td>\n",
              "      <td>49.500000</td>\n",
              "    </tr>\n",
              "  </tbody>\n",
              "</table>\n",
              "</div>"
            ],
            "text/plain": [
              "salary                          <=50K       >50K\n",
              "native-country                                  \n",
              "?                           40.164760  45.547945\n",
              "Cambodia                    41.416667  40.000000\n",
              "Canada                      37.914634  45.641026\n",
              "China                       37.381818  38.900000\n",
              "Columbia                    38.684211  50.000000\n",
              "Cuba                        37.985714  42.440000\n",
              "Dominican-Republic          42.338235  47.000000\n",
              "Ecuador                     38.041667  48.750000\n",
              "El-Salvador                 36.030928  45.000000\n",
              "England                     40.483333  44.533333\n",
              "France                      41.058824  50.750000\n",
              "Germany                     39.139785  44.977273\n",
              "Greece                      41.809524  50.625000\n",
              "Guatemala                   39.360656  36.666667\n",
              "Haiti                       36.325000  42.750000\n",
              "Holand-Netherlands          40.000000        NaN\n",
              "Honduras                    34.333333  60.000000\n",
              "Hong                        39.142857  45.000000\n",
              "Hungary                     31.300000  50.000000\n",
              "India                       38.233333  46.475000\n",
              "Iran                        41.440000  47.500000\n",
              "Ireland                     40.947368  48.000000\n",
              "Italy                       39.625000  45.400000\n",
              "Jamaica                     38.239437  41.100000\n",
              "Japan                       41.000000  47.958333\n",
              "Laos                        40.375000  40.000000\n",
              "Mexico                      40.003279  46.575758\n",
              "Nicaragua                   36.093750  37.500000\n",
              "Outlying-US(Guam-USVI-etc)  41.857143        NaN\n",
              "Peru                        35.068966  40.000000\n",
              "Philippines                 38.065693  43.032787\n",
              "Poland                      38.166667  39.000000\n",
              "Portugal                    41.939394  41.500000\n",
              "Puerto-Rico                 38.470588  39.416667\n",
              "Scotland                    39.444444  46.666667\n",
              "South                       40.156250  51.437500\n",
              "Taiwan                      33.774194  46.800000\n",
              "Thailand                    42.866667  58.333333\n",
              "Trinadad&Tobago             37.058824  40.000000\n",
              "United-States               38.799127  45.505369\n",
              "Vietnam                     37.193548  39.200000\n",
              "Yugoslavia                  41.600000  49.500000"
            ]
          },
          "metadata": {
            "tags": []
          },
          "execution_count": 13
        }
      ]
    },
    {
      "cell_type": "code",
      "metadata": {
        "colab": {
          "base_uri": "https://localhost:8080/"
        },
        "id": "oiUxAhPFRI88",
        "outputId": "108d38c8-9e70-45cf-87d0-6a2068b883c9"
      },
      "source": [
        "p.loc[\"Japan\"]"
      ],
      "execution_count": 14,
      "outputs": [
        {
          "output_type": "execute_result",
          "data": {
            "text/plain": [
              "salary\n",
              "<=50K    41.000000\n",
              ">50K     47.958333\n",
              "Name: Japan, dtype: float64"
            ]
          },
          "metadata": {
            "tags": []
          },
          "execution_count": 14
        }
      ]
    },
    {
      "cell_type": "code",
      "metadata": {
        "colab": {
          "base_uri": "https://localhost:8080/"
        },
        "id": "yFt9wAXMRQTk",
        "outputId": "c43467ec-e824-4c12-89c4-fb8ab713c50c"
      },
      "source": [
        "!pip install pandasql"
      ],
      "execution_count": 15,
      "outputs": [
        {
          "output_type": "stream",
          "text": [
            "Collecting pandasql\n",
            "  Downloading https://files.pythonhosted.org/packages/6b/c4/ee4096ffa2eeeca0c749b26f0371bd26aa5c8b611c43de99a4f86d3de0a7/pandasql-0.7.3.tar.gz\n",
            "Requirement already satisfied: numpy in /usr/local/lib/python3.7/dist-packages (from pandasql) (1.19.5)\n",
            "Requirement already satisfied: pandas in /usr/local/lib/python3.7/dist-packages (from pandasql) (1.1.5)\n",
            "Requirement already satisfied: sqlalchemy in /usr/local/lib/python3.7/dist-packages (from pandasql) (1.3.23)\n",
            "Requirement already satisfied: python-dateutil>=2.7.3 in /usr/local/lib/python3.7/dist-packages (from pandas->pandasql) (2.8.1)\n",
            "Requirement already satisfied: pytz>=2017.2 in /usr/local/lib/python3.7/dist-packages (from pandas->pandasql) (2018.9)\n",
            "Requirement already satisfied: six>=1.5 in /usr/local/lib/python3.7/dist-packages (from python-dateutil>=2.7.3->pandas->pandasql) (1.15.0)\n",
            "Building wheels for collected packages: pandasql\n",
            "  Building wheel for pandasql (setup.py) ... \u001b[?25l\u001b[?25hdone\n",
            "  Created wheel for pandasql: filename=pandasql-0.7.3-cp37-none-any.whl size=26820 sha256=3b1156e24c0b8ac95aed7a14d3eee140c5802273d78c32f056995cbd4a1866da\n",
            "  Stored in directory: /root/.cache/pip/wheels/53/6c/18/b87a2e5fa8a82e9c026311de56210b8d1c01846e18a9607fc9\n",
            "Successfully built pandasql\n",
            "Installing collected packages: pandasql\n",
            "Successfully installed pandasql-0.7.3\n"
          ],
          "name": "stdout"
        }
      ]
    },
    {
      "cell_type": "code",
      "metadata": {
        "id": "YT_NTqhxRkxo"
      },
      "source": [
        "from pandasql import sqldf\r\n",
        "pysqldf = lambda q: sqldf(q, globals())"
      ],
      "execution_count": 16,
      "outputs": []
    },
    {
      "cell_type": "code",
      "metadata": {
        "id": "tFyvuTzgRojl"
      },
      "source": [
        "wind = (pd.read_csv('wind speed.csv', header=None,\r\n",
        "names=[\"row\", \"UNIX\", \"date\",\r\n",
        "\"time\", \"speed\", \"text\"])\r\n",
        ".drop(\"text\", axis=1))\r\n",
        "temp = (pd.read_csv('temperature.csv', header=None,\r\n",
        "names=[\"row\", \"UNIX\", \"date\",\r\n",
        "\"time\", \"temperature\", \"text\"])\r\n",
        ".drop(\"text\", axis=1))"
      ],
      "execution_count": 17,
      "outputs": []
    },
    {
      "cell_type": "code",
      "metadata": {
        "colab": {
          "base_uri": "https://localhost:8080/",
          "height": 195
        },
        "id": "d_WcuTNoRy6H",
        "outputId": "650999f3-6ec8-4382-8fc5-d17813e52540"
      },
      "source": [
        "wind.head()"
      ],
      "execution_count": 18,
      "outputs": [
        {
          "output_type": "execute_result",
          "data": {
            "text/html": [
              "<div>\n",
              "<style scoped>\n",
              "    .dataframe tbody tr th:only-of-type {\n",
              "        vertical-align: middle;\n",
              "    }\n",
              "\n",
              "    .dataframe tbody tr th {\n",
              "        vertical-align: top;\n",
              "    }\n",
              "\n",
              "    .dataframe thead th {\n",
              "        text-align: right;\n",
              "    }\n",
              "</style>\n",
              "<table border=\"1\" class=\"dataframe\">\n",
              "  <thead>\n",
              "    <tr style=\"text-align: right;\">\n",
              "      <th></th>\n",
              "      <th>row</th>\n",
              "      <th>UNIX</th>\n",
              "      <th>date</th>\n",
              "      <th>time</th>\n",
              "      <th>speed</th>\n",
              "    </tr>\n",
              "  </thead>\n",
              "  <tbody>\n",
              "    <tr>\n",
              "      <th>0</th>\n",
              "      <td>1</td>\n",
              "      <td>1475315718</td>\n",
              "      <td>2016-09-30</td>\n",
              "      <td>23:55:18</td>\n",
              "      <td>7.87</td>\n",
              "    </tr>\n",
              "    <tr>\n",
              "      <th>1</th>\n",
              "      <td>2</td>\n",
              "      <td>1475315423</td>\n",
              "      <td>2016-09-30</td>\n",
              "      <td>23:50:23</td>\n",
              "      <td>7.87</td>\n",
              "    </tr>\n",
              "    <tr>\n",
              "      <th>2</th>\n",
              "      <td>3</td>\n",
              "      <td>1475315124</td>\n",
              "      <td>2016-09-30</td>\n",
              "      <td>23:45:24</td>\n",
              "      <td>9.00</td>\n",
              "    </tr>\n",
              "    <tr>\n",
              "      <th>3</th>\n",
              "      <td>4</td>\n",
              "      <td>1475314821</td>\n",
              "      <td>2016-09-30</td>\n",
              "      <td>23:40:21</td>\n",
              "      <td>13.50</td>\n",
              "    </tr>\n",
              "    <tr>\n",
              "      <th>4</th>\n",
              "      <td>5</td>\n",
              "      <td>1475314522</td>\n",
              "      <td>2016-09-30</td>\n",
              "      <td>23:35:22</td>\n",
              "      <td>15.75</td>\n",
              "    </tr>\n",
              "  </tbody>\n",
              "</table>\n",
              "</div>"
            ],
            "text/plain": [
              "   row        UNIX        date      time  speed\n",
              "0    1  1475315718  2016-09-30  23:55:18   7.87\n",
              "1    2  1475315423  2016-09-30  23:50:23   7.87\n",
              "2    3  1475315124  2016-09-30  23:45:24   9.00\n",
              "3    4  1475314821  2016-09-30  23:40:21  13.50\n",
              "4    5  1475314522  2016-09-30  23:35:22  15.75"
            ]
          },
          "metadata": {
            "tags": []
          },
          "execution_count": 18
        }
      ]
    },
    {
      "cell_type": "code",
      "metadata": {
        "colab": {
          "base_uri": "https://localhost:8080/"
        },
        "id": "3nzXNx69R5x6",
        "outputId": "7e06d8f0-0e60-445f-c3e3-ce7ff1bfca48"
      },
      "source": [
        "wind.dtypes"
      ],
      "execution_count": 19,
      "outputs": [
        {
          "output_type": "execute_result",
          "data": {
            "text/plain": [
              "row        int64\n",
              "UNIX       int64\n",
              "date      object\n",
              "time      object\n",
              "speed    float64\n",
              "dtype: object"
            ]
          },
          "metadata": {
            "tags": []
          },
          "execution_count": 19
        }
      ]
    },
    {
      "cell_type": "code",
      "metadata": {
        "colab": {
          "base_uri": "https://localhost:8080/",
          "height": 195
        },
        "id": "vQMcfZLjSBw-",
        "outputId": "ec6c99ce-76a4-47ed-dfb7-44aaae3499e7"
      },
      "source": [
        "temp.head()"
      ],
      "execution_count": 20,
      "outputs": [
        {
          "output_type": "execute_result",
          "data": {
            "text/html": [
              "<div>\n",
              "<style scoped>\n",
              "    .dataframe tbody tr th:only-of-type {\n",
              "        vertical-align: middle;\n",
              "    }\n",
              "\n",
              "    .dataframe tbody tr th {\n",
              "        vertical-align: top;\n",
              "    }\n",
              "\n",
              "    .dataframe thead th {\n",
              "        text-align: right;\n",
              "    }\n",
              "</style>\n",
              "<table border=\"1\" class=\"dataframe\">\n",
              "  <thead>\n",
              "    <tr style=\"text-align: right;\">\n",
              "      <th></th>\n",
              "      <th>row</th>\n",
              "      <th>UNIX</th>\n",
              "      <th>date</th>\n",
              "      <th>time</th>\n",
              "      <th>temperature</th>\n",
              "    </tr>\n",
              "  </thead>\n",
              "  <tbody>\n",
              "    <tr>\n",
              "      <th>0</th>\n",
              "      <td>1</td>\n",
              "      <td>1475315718</td>\n",
              "      <td>2016-09-30</td>\n",
              "      <td>23:55:18</td>\n",
              "      <td>48</td>\n",
              "    </tr>\n",
              "    <tr>\n",
              "      <th>1</th>\n",
              "      <td>2</td>\n",
              "      <td>1475315423</td>\n",
              "      <td>2016-09-30</td>\n",
              "      <td>23:50:23</td>\n",
              "      <td>48</td>\n",
              "    </tr>\n",
              "    <tr>\n",
              "      <th>2</th>\n",
              "      <td>3</td>\n",
              "      <td>1475315124</td>\n",
              "      <td>2016-09-30</td>\n",
              "      <td>23:45:24</td>\n",
              "      <td>48</td>\n",
              "    </tr>\n",
              "    <tr>\n",
              "      <th>3</th>\n",
              "      <td>4</td>\n",
              "      <td>1475314821</td>\n",
              "      <td>2016-09-30</td>\n",
              "      <td>23:40:21</td>\n",
              "      <td>48</td>\n",
              "    </tr>\n",
              "    <tr>\n",
              "      <th>4</th>\n",
              "      <td>5</td>\n",
              "      <td>1475314522</td>\n",
              "      <td>2016-09-30</td>\n",
              "      <td>23:35:22</td>\n",
              "      <td>48</td>\n",
              "    </tr>\n",
              "  </tbody>\n",
              "</table>\n",
              "</div>"
            ],
            "text/plain": [
              "   row        UNIX        date      time  temperature\n",
              "0    1  1475315718  2016-09-30  23:55:18           48\n",
              "1    2  1475315423  2016-09-30  23:50:23           48\n",
              "2    3  1475315124  2016-09-30  23:45:24           48\n",
              "3    4  1475314821  2016-09-30  23:40:21           48\n",
              "4    5  1475314522  2016-09-30  23:35:22           48"
            ]
          },
          "metadata": {
            "tags": []
          },
          "execution_count": 20
        }
      ]
    },
    {
      "cell_type": "code",
      "metadata": {
        "colab": {
          "base_uri": "https://localhost:8080/"
        },
        "id": "KEqMFCIASDmo",
        "outputId": "757aec10-2b20-4e04-ffc3-b7538803c183"
      },
      "source": [
        "temp.dtypes"
      ],
      "execution_count": 21,
      "outputs": [
        {
          "output_type": "execute_result",
          "data": {
            "text/plain": [
              "row             int64\n",
              "UNIX            int64\n",
              "date           object\n",
              "time           object\n",
              "temperature     int64\n",
              "dtype: object"
            ]
          },
          "metadata": {
            "tags": []
          },
          "execution_count": 21
        }
      ]
    },
    {
      "cell_type": "code",
      "metadata": {
        "colab": {
          "base_uri": "https://localhost:8080/",
          "height": 195
        },
        "id": "Po0jmmlWSIHN",
        "outputId": "3b746497-a61b-4180-b7de-767a51a4002a"
      },
      "source": [
        "wind.merge(temp[[\"UNIX\", \"temperature\"]], on=\"UNIX\").head()"
      ],
      "execution_count": 22,
      "outputs": [
        {
          "output_type": "execute_result",
          "data": {
            "text/html": [
              "<div>\n",
              "<style scoped>\n",
              "    .dataframe tbody tr th:only-of-type {\n",
              "        vertical-align: middle;\n",
              "    }\n",
              "\n",
              "    .dataframe tbody tr th {\n",
              "        vertical-align: top;\n",
              "    }\n",
              "\n",
              "    .dataframe thead th {\n",
              "        text-align: right;\n",
              "    }\n",
              "</style>\n",
              "<table border=\"1\" class=\"dataframe\">\n",
              "  <thead>\n",
              "    <tr style=\"text-align: right;\">\n",
              "      <th></th>\n",
              "      <th>row</th>\n",
              "      <th>UNIX</th>\n",
              "      <th>date</th>\n",
              "      <th>time</th>\n",
              "      <th>speed</th>\n",
              "      <th>temperature</th>\n",
              "    </tr>\n",
              "  </thead>\n",
              "  <tbody>\n",
              "    <tr>\n",
              "      <th>0</th>\n",
              "      <td>1</td>\n",
              "      <td>1475315718</td>\n",
              "      <td>2016-09-30</td>\n",
              "      <td>23:55:18</td>\n",
              "      <td>7.87</td>\n",
              "      <td>48</td>\n",
              "    </tr>\n",
              "    <tr>\n",
              "      <th>1</th>\n",
              "      <td>2</td>\n",
              "      <td>1475315423</td>\n",
              "      <td>2016-09-30</td>\n",
              "      <td>23:50:23</td>\n",
              "      <td>7.87</td>\n",
              "      <td>48</td>\n",
              "    </tr>\n",
              "    <tr>\n",
              "      <th>2</th>\n",
              "      <td>3</td>\n",
              "      <td>1475315124</td>\n",
              "      <td>2016-09-30</td>\n",
              "      <td>23:45:24</td>\n",
              "      <td>9.00</td>\n",
              "      <td>48</td>\n",
              "    </tr>\n",
              "    <tr>\n",
              "      <th>3</th>\n",
              "      <td>4</td>\n",
              "      <td>1475314821</td>\n",
              "      <td>2016-09-30</td>\n",
              "      <td>23:40:21</td>\n",
              "      <td>13.50</td>\n",
              "      <td>48</td>\n",
              "    </tr>\n",
              "    <tr>\n",
              "      <th>4</th>\n",
              "      <td>5</td>\n",
              "      <td>1475314522</td>\n",
              "      <td>2016-09-30</td>\n",
              "      <td>23:35:22</td>\n",
              "      <td>15.75</td>\n",
              "      <td>48</td>\n",
              "    </tr>\n",
              "  </tbody>\n",
              "</table>\n",
              "</div>"
            ],
            "text/plain": [
              "   row        UNIX        date      time  speed  temperature\n",
              "0    1  1475315718  2016-09-30  23:55:18   7.87           48\n",
              "1    2  1475315423  2016-09-30  23:50:23   7.87           48\n",
              "2    3  1475315124  2016-09-30  23:45:24   9.00           48\n",
              "3    4  1475314821  2016-09-30  23:40:21  13.50           48\n",
              "4    5  1475314522  2016-09-30  23:35:22  15.75           48"
            ]
          },
          "metadata": {
            "tags": []
          },
          "execution_count": 22
        }
      ]
    },
    {
      "cell_type": "code",
      "metadata": {
        "colab": {
          "base_uri": "https://localhost:8080/"
        },
        "id": "36-niLoYSOFK",
        "outputId": "e8894c58-c32d-495d-af62-d51f498f1fa9"
      },
      "source": [
        "%%timeit\r\n",
        "wind.merge(temp[[\"UNIX\", \"temperature\"]], on=\"UNIX\")"
      ],
      "execution_count": 23,
      "outputs": [
        {
          "output_type": "stream",
          "text": [
            "100 loops, best of 5: 10.9 ms per loop\n"
          ],
          "name": "stdout"
        }
      ]
    },
    {
      "cell_type": "code",
      "metadata": {
        "colab": {
          "base_uri": "https://localhost:8080/",
          "height": 195
        },
        "id": "eld9Z8ZbSf-r",
        "outputId": "8fa6d8f5-bbe5-46a5-bd3e-6572ea8742ef"
      },
      "source": [
        "pysqldf(\"\"\"SELECT w.row, w.UNIX, w.date, w.time,\r\n",
        "w.speed, t.temperature\r\n",
        "FROM wind AS w JOIN temp AS t\r\n",
        "ON w.UNIX = t.UNIX\r\n",
        "\"\"\").head()"
      ],
      "execution_count": 24,
      "outputs": [
        {
          "output_type": "execute_result",
          "data": {
            "text/html": [
              "<div>\n",
              "<style scoped>\n",
              "    .dataframe tbody tr th:only-of-type {\n",
              "        vertical-align: middle;\n",
              "    }\n",
              "\n",
              "    .dataframe tbody tr th {\n",
              "        vertical-align: top;\n",
              "    }\n",
              "\n",
              "    .dataframe thead th {\n",
              "        text-align: right;\n",
              "    }\n",
              "</style>\n",
              "<table border=\"1\" class=\"dataframe\">\n",
              "  <thead>\n",
              "    <tr style=\"text-align: right;\">\n",
              "      <th></th>\n",
              "      <th>row</th>\n",
              "      <th>UNIX</th>\n",
              "      <th>date</th>\n",
              "      <th>time</th>\n",
              "      <th>speed</th>\n",
              "      <th>temperature</th>\n",
              "    </tr>\n",
              "  </thead>\n",
              "  <tbody>\n",
              "    <tr>\n",
              "      <th>0</th>\n",
              "      <td>1</td>\n",
              "      <td>1475315718</td>\n",
              "      <td>2016-09-30</td>\n",
              "      <td>23:55:18</td>\n",
              "      <td>7.87</td>\n",
              "      <td>48</td>\n",
              "    </tr>\n",
              "    <tr>\n",
              "      <th>1</th>\n",
              "      <td>2</td>\n",
              "      <td>1475315423</td>\n",
              "      <td>2016-09-30</td>\n",
              "      <td>23:50:23</td>\n",
              "      <td>7.87</td>\n",
              "      <td>48</td>\n",
              "    </tr>\n",
              "    <tr>\n",
              "      <th>2</th>\n",
              "      <td>3</td>\n",
              "      <td>1475315124</td>\n",
              "      <td>2016-09-30</td>\n",
              "      <td>23:45:24</td>\n",
              "      <td>9.00</td>\n",
              "      <td>48</td>\n",
              "    </tr>\n",
              "    <tr>\n",
              "      <th>3</th>\n",
              "      <td>4</td>\n",
              "      <td>1475314821</td>\n",
              "      <td>2016-09-30</td>\n",
              "      <td>23:40:21</td>\n",
              "      <td>13.50</td>\n",
              "      <td>48</td>\n",
              "    </tr>\n",
              "    <tr>\n",
              "      <th>4</th>\n",
              "      <td>5</td>\n",
              "      <td>1475314522</td>\n",
              "      <td>2016-09-30</td>\n",
              "      <td>23:35:22</td>\n",
              "      <td>15.75</td>\n",
              "      <td>48</td>\n",
              "    </tr>\n",
              "  </tbody>\n",
              "</table>\n",
              "</div>"
            ],
            "text/plain": [
              "   row        UNIX        date      time  speed  temperature\n",
              "0    1  1475315718  2016-09-30  23:55:18   7.87           48\n",
              "1    2  1475315423  2016-09-30  23:50:23   7.87           48\n",
              "2    3  1475315124  2016-09-30  23:45:24   9.00           48\n",
              "3    4  1475314821  2016-09-30  23:40:21  13.50           48\n",
              "4    5  1475314522  2016-09-30  23:35:22  15.75           48"
            ]
          },
          "metadata": {
            "tags": []
          },
          "execution_count": 24
        }
      ]
    },
    {
      "cell_type": "code",
      "metadata": {
        "colab": {
          "base_uri": "https://localhost:8080/"
        },
        "id": "jZbsoJ_RShtB",
        "outputId": "8c377b54-2563-4ad7-edc2-27c586936de3"
      },
      "source": [
        "%%timeit\r\n",
        "pysqldf(\"\"\"SELECT w.row, w.UNIX, w.date, w.time,\r\n",
        "w.speed, t.temperature\r\n",
        "FROM wind AS w JOIN temp AS t\r\n",
        "ON w.UNIX = t.UNIX\r\n",
        "\"\"\")"
      ],
      "execution_count": 25,
      "outputs": [
        {
          "output_type": "stream",
          "text": [
            "1 loop, best of 5: 776 ms per loop\n"
          ],
          "name": "stdout"
        }
      ]
    },
    {
      "cell_type": "code",
      "metadata": {
        "colab": {
          "base_uri": "https://localhost:8080/"
        },
        "id": "UgsDeyUwS5HZ",
        "outputId": "97a3b497-d74a-4bad-fdba-339105c98e8a"
      },
      "source": [
        "wind.groupby(\"date\")[\"speed\"].mean().head()"
      ],
      "execution_count": 26,
      "outputs": [
        {
          "output_type": "execute_result",
          "data": {
            "text/plain": [
              "date\n",
              "2016-09-01    6.396560\n",
              "2016-09-02    5.804086\n",
              "2016-09-03    4.960248\n",
              "2016-09-04    5.184571\n",
              "2016-09-05    5.830676\n",
              "Name: speed, dtype: float64"
            ]
          },
          "metadata": {
            "tags": []
          },
          "execution_count": 26
        }
      ]
    },
    {
      "cell_type": "code",
      "metadata": {
        "colab": {
          "base_uri": "https://localhost:8080/"
        },
        "id": "zZqMeONvS-Jc",
        "outputId": "4474594a-f9f0-4a10-cd9e-991713edf2de"
      },
      "source": [
        "%%timeit\r\n",
        "wind.groupby(\"date\")[\"speed\"].mean()"
      ],
      "execution_count": 27,
      "outputs": [
        {
          "output_type": "stream",
          "text": [
            "100 loops, best of 5: 2.81 ms per loop\n"
          ],
          "name": "stdout"
        }
      ]
    },
    {
      "cell_type": "code",
      "metadata": {
        "colab": {
          "base_uri": "https://localhost:8080/",
          "height": 195
        },
        "id": "RN4iO6FGTKAd",
        "outputId": "4e97f8c2-d0a5-4f20-db6d-173efc703142"
      },
      "source": [
        "pysqldf(\"\"\"SELECT date, AVG(speed)\r\n",
        "FROM wind\r\n",
        "GROUP BY date\r\n",
        "\"\"\").head()"
      ],
      "execution_count": 28,
      "outputs": [
        {
          "output_type": "execute_result",
          "data": {
            "text/html": [
              "<div>\n",
              "<style scoped>\n",
              "    .dataframe tbody tr th:only-of-type {\n",
              "        vertical-align: middle;\n",
              "    }\n",
              "\n",
              "    .dataframe tbody tr th {\n",
              "        vertical-align: top;\n",
              "    }\n",
              "\n",
              "    .dataframe thead th {\n",
              "        text-align: right;\n",
              "    }\n",
              "</style>\n",
              "<table border=\"1\" class=\"dataframe\">\n",
              "  <thead>\n",
              "    <tr style=\"text-align: right;\">\n",
              "      <th></th>\n",
              "      <th>date</th>\n",
              "      <th>AVG(speed)</th>\n",
              "    </tr>\n",
              "  </thead>\n",
              "  <tbody>\n",
              "    <tr>\n",
              "      <th>0</th>\n",
              "      <td>2016-09-01</td>\n",
              "      <td>6.396560</td>\n",
              "    </tr>\n",
              "    <tr>\n",
              "      <th>1</th>\n",
              "      <td>2016-09-02</td>\n",
              "      <td>5.804086</td>\n",
              "    </tr>\n",
              "    <tr>\n",
              "      <th>2</th>\n",
              "      <td>2016-09-03</td>\n",
              "      <td>4.960248</td>\n",
              "    </tr>\n",
              "    <tr>\n",
              "      <th>3</th>\n",
              "      <td>2016-09-04</td>\n",
              "      <td>5.184571</td>\n",
              "    </tr>\n",
              "    <tr>\n",
              "      <th>4</th>\n",
              "      <td>2016-09-05</td>\n",
              "      <td>5.830676</td>\n",
              "    </tr>\n",
              "  </tbody>\n",
              "</table>\n",
              "</div>"
            ],
            "text/plain": [
              "         date  AVG(speed)\n",
              "0  2016-09-01    6.396560\n",
              "1  2016-09-02    5.804086\n",
              "2  2016-09-03    4.960248\n",
              "3  2016-09-04    5.184571\n",
              "4  2016-09-05    5.830676"
            ]
          },
          "metadata": {
            "tags": []
          },
          "execution_count": 28
        }
      ]
    },
    {
      "cell_type": "code",
      "metadata": {
        "colab": {
          "base_uri": "https://localhost:8080/"
        },
        "id": "eiHXBqSnTLkd",
        "outputId": "0041a464-2bc0-4f7a-aa52-24cadf3d41bb"
      },
      "source": [
        "%%timeit\r\n",
        "pysqldf(\"\"\"SELECT date, AVG(speed)\r\n",
        "FROM wind\r\n",
        "GROUP BY date\r\n",
        "\"\"\")"
      ],
      "execution_count": 29,
      "outputs": [
        {
          "output_type": "stream",
          "text": [
            "1 loop, best of 5: 327 ms per loop\n"
          ],
          "name": "stdout"
        }
      ]
    }
  ]
}