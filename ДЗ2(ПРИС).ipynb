{
  "nbformat": 4,
  "nbformat_minor": 0,
  "metadata": {
    "colab": {
      "name": "ДЗ2(ПРИС).ipynb",
      "provenance": [],
      "collapsed_sections": [],
      "include_colab_link": true
    },
    "kernelspec": {
      "name": "python3",
      "display_name": "Python 3"
    },
    "language_info": {
      "name": "python"
    },
    "accelerator": "GPU"
  },
  "cells": [
    {
      "cell_type": "markdown",
      "metadata": {
        "id": "view-in-github",
        "colab_type": "text"
      },
      "source": [
        "<a href=\"https://colab.research.google.com/github/myozaw5288/git/blob/master/%D0%94%D0%972(%D0%9F%D0%A0%D0%98%D0%A1).ipynb\" target=\"_parent\"><img src=\"https://colab.research.google.com/assets/colab-badge.svg\" alt=\"Open In Colab\"/></a>"
      ]
    },
    {
      "cell_type": "code",
      "metadata": {
        "colab": {
          "base_uri": "https://localhost:8080/"
        },
        "id": "F5PXUDRykSSk",
        "outputId": "86b5fb82-ec4e-4e9a-fca4-269de746c1b5"
      },
      "source": [
        "import os\n",
        "os.listdir('/content/drive/MyDrive/img_data')"
      ],
      "execution_count": 2,
      "outputs": [
        {
          "output_type": "execute_result",
          "data": {
            "text/plain": [
              "['people', 'car', 'dog']"
            ]
          },
          "metadata": {
            "tags": []
          },
          "execution_count": 2
        }
      ]
    },
    {
      "cell_type": "code",
      "metadata": {
        "colab": {
          "base_uri": "https://localhost:8080/"
        },
        "id": "FhqCiQaGYWwO",
        "outputId": "ab39c0c7-bfce-4165-9896-08a5a5894bed"
      },
      "source": [
        "from google.colab import drive\n",
        "drive.mount('/content/drive')"
      ],
      "execution_count": 3,
      "outputs": [
        {
          "output_type": "stream",
          "text": [
            "Drive already mounted at /content/drive; to attempt to forcibly remount, call drive.mount(\"/content/drive\", force_remount=True).\n"
          ],
          "name": "stdout"
        }
      ]
    },
    {
      "cell_type": "code",
      "metadata": {
        "colab": {
          "base_uri": "https://localhost:8080/"
        },
        "id": "6RjTB7CcrTzI",
        "outputId": "f7c3e596-d57e-4803-c57c-0c34bfa12280"
      },
      "source": [
        "loc0 = '/content/drive/MyDrive/img_data/car'\n",
        "loc1 = '/content/drive/MyDrive/img_data/dog'\n",
        "loc2 = '/content/drive/MyDrive/img_data/people'\n",
        "\n",
        "features = []\n",
        "import cv2\n",
        "from tqdm import tqdm\n",
        "\n",
        "for img in tqdm(os.listdir(loc0)):\n",
        "    im = cv2.imread(os.path.join(loc0,img),0)\n",
        "    im = cv2.resize(im,(70,70))\n",
        "    features.append(im)\n",
        "for img in tqdm(os.listdir(loc1)):\n",
        "    im = cv2.imread(os.path.join(loc1,img),0)\n",
        "    im = cv2.resize(im,(70,70))\n",
        "    features.append(im)\n",
        "for img in tqdm(os.listdir(loc2)):\n",
        "    im = cv2.imread(os.path.join(loc2,img),0)\n",
        "    im = cv2.resize(im,(70,70))\n",
        "    features.append(im)"
      ],
      "execution_count": 5,
      "outputs": [
        {
          "output_type": "stream",
          "text": [
            "100%|██████████| 100/100 [00:00<00:00, 261.72it/s]\n",
            "100%|██████████| 101/101 [00:00<00:00, 133.13it/s]\n",
            "100%|██████████| 100/100 [00:00<00:00, 267.47it/s]\n"
          ],
          "name": "stderr"
        }
      ]
    },
    {
      "cell_type": "code",
      "metadata": {
        "colab": {
          "base_uri": "https://localhost:8080/"
        },
        "id": "c31Oalovr8nL",
        "outputId": "988256ed-a9bd-4df5-de81-fbdc121cd3d6"
      },
      "source": [
        "labels = []\n",
        "for img in tqdm(os.listdir(loc0)):\n",
        "    labels.append(0)\n",
        "\n",
        "for img in tqdm(os.listdir(loc1)):\n",
        "    labels.append(1)\n",
        "\n",
        "for img in tqdm(os.listdir(loc2)):\n",
        "    labels.append(2)"
      ],
      "execution_count": 6,
      "outputs": [
        {
          "output_type": "stream",
          "text": [
            "100%|██████████| 100/100 [00:00<00:00, 367921.40it/s]\n",
            "100%|██████████| 101/101 [00:00<00:00, 92859.43it/s]\n",
            "100%|██████████| 100/100 [00:00<00:00, 65576.99it/s]\n"
          ],
          "name": "stderr"
        }
      ]
    },
    {
      "cell_type": "code",
      "metadata": {
        "colab": {
          "base_uri": "https://localhost:8080/"
        },
        "id": "u9SyQshMsApv",
        "outputId": "3b73bb91-4edf-4aea-82b3-1c1840659e61"
      },
      "source": [
        "import numpy as np\n",
        "\n",
        "X = np.array(features).reshape(-1,70,70,1)\n",
        "Y = np.array(labels)\n",
        "\n",
        "print(X.shape)\n",
        "print(Y.shape)"
      ],
      "execution_count": 7,
      "outputs": [
        {
          "output_type": "stream",
          "text": [
            "(301, 70, 70, 1)\n",
            "(301,)\n"
          ],
          "name": "stdout"
        }
      ]
    },
    {
      "cell_type": "code",
      "metadata": {
        "id": "sUOsMjmAsECB"
      },
      "source": [
        "import keras\n",
        "from keras.models import Sequential\n",
        "from keras.layers import Dense,Activation,Convolution2D,MaxPooling2D,Flatten,Dropout\n",
        "from keras.utils import np_utils\n",
        "from sklearn.model_selection import train_test_split\n",
        "\n",
        "xtrain,xtest,ytrain,ytest = train_test_split(X,Y)\n",
        "\n",
        "xtrain_n = xtrain/xtrain.max()\n",
        "xtest_n = xtest/xtest.max()\n",
        "\n",
        "ytrain_h = np_utils.to_categorical(ytrain)\n",
        "\n",
        "ytest_h = np_utils.to_categorical(ytest)"
      ],
      "execution_count": 8,
      "outputs": []
    },
    {
      "cell_type": "code",
      "metadata": {
        "id": "WrrBs5pusSea"
      },
      "source": [
        "model = Sequential()\n",
        "model.add(Convolution2D(32,(3,3), padding = 'same', input_shape = xtrain_n.shape[1:]))\n",
        "model.add(Activation('relu'))\n",
        "model.add(MaxPooling2D(pool_size=(2,2)))\n",
        "model.add(Dropout(0.2))\n",
        "\n",
        "model.add(Convolution2D(64,(3,3), padding = 'same'))\n",
        "model.add(Activation('relu'))\n",
        "model.add(MaxPooling2D(pool_size=(2,2)))\n",
        "model.add(Dropout(0.2))\n",
        "\n",
        "model.add(Convolution2D(128,(3,3), padding = 'same'))\n",
        "model.add(Activation('relu'))\n",
        "model.add(MaxPooling2D(pool_size=(2,2)))\n",
        "model.add(Dropout(0.2))\n",
        "\n",
        "model.add(Convolution2D(256,(3,3), padding = 'same'))\n",
        "model.add(Activation('relu'))\n",
        "model.add(MaxPooling2D(pool_size=(2,2)))\n",
        "model.add(Dropout(0.2))\n",
        "\n",
        "model.add(Convolution2D(512,(3,3), padding = 'same'))\n",
        "model.add(Activation('relu'))\n",
        "model.add(MaxPooling2D(pool_size=(2,2)))\n",
        "model.add(Dropout(0.2))\n",
        "\n",
        "model.add(Convolution2D(1024,(3,3), padding = 'same'))\n",
        "model.add(Activation('relu'))\n",
        "model.add(MaxPooling2D(pool_size=(2,2)))\n",
        "model.add(Dropout(0.2))\n",
        "\n",
        "\n",
        "model.add(Flatten())\n",
        "model.add(Dense(3,activation='softmax'))"
      ],
      "execution_count": 9,
      "outputs": []
    },
    {
      "cell_type": "code",
      "metadata": {
        "colab": {
          "base_uri": "https://localhost:8080/"
        },
        "id": "v1Y3vrrFscaq",
        "outputId": "3a2e1277-d1df-4b06-95b9-f6bfdc2a1811"
      },
      "source": [
        "model.compile(loss='categorical_crossentropy',optimizer='sgd',metrics=['accuracy'])\n",
        "\n",
        "history=model.fit(xtrain_n,ytrain_h,epochs=25,\n",
        "          validation_data=(xtest_n,ytest_h))"
      ],
      "execution_count": 10,
      "outputs": [
        {
          "output_type": "stream",
          "text": [
            "Epoch 1/25\n",
            "8/8 [==============================] - 34s 159ms/step - loss: 1.0995 - accuracy: 0.3418 - val_loss: 1.0984 - val_accuracy: 0.3553\n",
            "Epoch 2/25\n",
            "8/8 [==============================] - 0s 20ms/step - loss: 1.1009 - accuracy: 0.3152 - val_loss: 1.0984 - val_accuracy: 0.3553\n",
            "Epoch 3/25\n",
            "8/8 [==============================] - 0s 20ms/step - loss: 1.0950 - accuracy: 0.3365 - val_loss: 1.0955 - val_accuracy: 0.3553\n",
            "Epoch 4/25\n",
            "8/8 [==============================] - 0s 20ms/step - loss: 1.0944 - accuracy: 0.3690 - val_loss: 1.0939 - val_accuracy: 0.3816\n",
            "Epoch 5/25\n",
            "8/8 [==============================] - 0s 20ms/step - loss: 1.0995 - accuracy: 0.3130 - val_loss: 1.0931 - val_accuracy: 0.3816\n",
            "Epoch 6/25\n",
            "8/8 [==============================] - 0s 20ms/step - loss: 1.0993 - accuracy: 0.3308 - val_loss: 1.0980 - val_accuracy: 0.3816\n",
            "Epoch 7/25\n",
            "8/8 [==============================] - 0s 20ms/step - loss: 1.0978 - accuracy: 0.3292 - val_loss: 1.0978 - val_accuracy: 0.3553\n",
            "Epoch 8/25\n",
            "8/8 [==============================] - 0s 20ms/step - loss: 1.0995 - accuracy: 0.2895 - val_loss: 1.0956 - val_accuracy: 0.3816\n",
            "Epoch 9/25\n",
            "8/8 [==============================] - 0s 20ms/step - loss: 1.0968 - accuracy: 0.3401 - val_loss: 1.1006 - val_accuracy: 0.2632\n",
            "Epoch 10/25\n",
            "8/8 [==============================] - 0s 20ms/step - loss: 1.0934 - accuracy: 0.4591 - val_loss: 1.1051 - val_accuracy: 0.2632\n",
            "Epoch 11/25\n",
            "8/8 [==============================] - 0s 20ms/step - loss: 1.0935 - accuracy: 0.4016 - val_loss: 1.1083 - val_accuracy: 0.2632\n",
            "Epoch 12/25\n",
            "8/8 [==============================] - 0s 20ms/step - loss: 1.0979 - accuracy: 0.3574 - val_loss: 1.1060 - val_accuracy: 0.2632\n",
            "Epoch 13/25\n",
            "8/8 [==============================] - 0s 20ms/step - loss: 1.1037 - accuracy: 0.3228 - val_loss: 1.1094 - val_accuracy: 0.2632\n",
            "Epoch 14/25\n",
            "8/8 [==============================] - 0s 19ms/step - loss: 1.0974 - accuracy: 0.3722 - val_loss: 1.1045 - val_accuracy: 0.2632\n",
            "Epoch 15/25\n",
            "8/8 [==============================] - 0s 20ms/step - loss: 1.0936 - accuracy: 0.4032 - val_loss: 1.1033 - val_accuracy: 0.2763\n",
            "Epoch 16/25\n",
            "8/8 [==============================] - 0s 20ms/step - loss: 1.0947 - accuracy: 0.3387 - val_loss: 1.1030 - val_accuracy: 0.3158\n",
            "Epoch 17/25\n",
            "8/8 [==============================] - 0s 20ms/step - loss: 1.0922 - accuracy: 0.3438 - val_loss: 1.1030 - val_accuracy: 0.3553\n",
            "Epoch 18/25\n",
            "8/8 [==============================] - 0s 20ms/step - loss: 1.1007 - accuracy: 0.3338 - val_loss: 1.1032 - val_accuracy: 0.3553\n",
            "Epoch 19/25\n",
            "8/8 [==============================] - 0s 20ms/step - loss: 1.1107 - accuracy: 0.3043 - val_loss: 1.1082 - val_accuracy: 0.2763\n",
            "Epoch 20/25\n",
            "8/8 [==============================] - 0s 20ms/step - loss: 1.0967 - accuracy: 0.3543 - val_loss: 1.1117 - val_accuracy: 0.2632\n",
            "Epoch 21/25\n",
            "8/8 [==============================] - 0s 22ms/step - loss: 1.0971 - accuracy: 0.4076 - val_loss: 1.1148 - val_accuracy: 0.2632\n",
            "Epoch 22/25\n",
            "8/8 [==============================] - 0s 20ms/step - loss: 1.0848 - accuracy: 0.4655 - val_loss: 1.1177 - val_accuracy: 0.2632\n",
            "Epoch 23/25\n",
            "8/8 [==============================] - 0s 21ms/step - loss: 1.0913 - accuracy: 0.3606 - val_loss: 1.1120 - val_accuracy: 0.2632\n",
            "Epoch 24/25\n",
            "8/8 [==============================] - 0s 20ms/step - loss: 1.0884 - accuracy: 0.3774 - val_loss: 1.1159 - val_accuracy: 0.2632\n",
            "Epoch 25/25\n",
            "8/8 [==============================] - 0s 21ms/step - loss: 1.0980 - accuracy: 0.3276 - val_loss: 1.1189 - val_accuracy: 0.2632\n"
          ],
          "name": "stdout"
        }
      ]
    },
    {
      "cell_type": "code",
      "metadata": {
        "colab": {
          "base_uri": "https://localhost:8080/",
          "height": 404
        },
        "id": "h1Io_k95NR2Y",
        "outputId": "2c32c385-aec3-4520-b7d4-fb4d0b7c160b"
      },
      "source": [
        "import matplotlib.pyplot as plt\n",
        "\n",
        "plt.figure(figsize = (6,6))\n",
        "plt.plot(history.history['accuracy'], label='training accuracy')\n",
        "plt.plot(history.history['val_accuracy'], label='val accuracy')\n",
        "plt.plot(history.history['loss'], label='training loss')\n",
        "plt.plot(history.history['val_loss'], label='val loss')\n",
        "plt.title('Loss/accuracy')\n",
        "plt.xlabel('epochs')\n",
        "plt.ylabel('loss')\n",
        "plt.legend()\n",
        "plt.show()"
      ],
      "execution_count": 11,
      "outputs": [
        {
          "output_type": "display_data",
          "data": {
            "image/png": "[encoded data removed]",
            "text/plain": [
              "<Figure size 432x432 with 1 Axes>"
            ]
          },
          "metadata": {
            "tags": [],
            "needs_background": "light"
          }
        }
      ]
    },
    {
      "cell_type": "code",
      "metadata": {
        "colab": {
          "base_uri": "https://localhost:8080/"
        },
        "id": "Bzb3rZa84kJo",
        "outputId": "27379552-ee4d-4f5b-eb49-d410d8d2cfc9"
      },
      "source": [
        "model.evaluate(xtrain_n,ytrain_h)"
      ],
      "execution_count": 12,
      "outputs": [
        {
          "output_type": "stream",
          "text": [
            "8/8 [==============================] - 0s 7ms/step - loss: 1.0977 - accuracy: 0.3556\n"
          ],
          "name": "stdout"
        },
        {
          "output_type": "execute_result",
          "data": {
            "text/plain": [
              "[1.0977413654327393, 0.35555556416511536]"
            ]
          },
          "metadata": {
            "tags": []
          },
          "execution_count": 12
        }
      ]
    },
    {
      "cell_type": "code",
      "metadata": {
        "colab": {
          "base_uri": "https://localhost:8080/"
        },
        "id": "nlVLg50C4rl-",
        "outputId": "54ee9116-a26e-43ff-dcf7-814111839986"
      },
      "source": [
        "model.evaluate(xtest_n,ytest_h)"
      ],
      "execution_count": 13,
      "outputs": [
        {
          "output_type": "stream",
          "text": [
            "3/3 [==============================] - 0s 8ms/step - loss: 1.1189 - accuracy: 0.2632\n"
          ],
          "name": "stdout"
        },
        {
          "output_type": "execute_result",
          "data": {
            "text/plain": [
              "[1.1189135313034058, 0.2631579041481018]"
            ]
          },
          "metadata": {
            "tags": []
          },
          "execution_count": 13
        }
      ]
    },
    {
      "cell_type": "code",
      "metadata": {
        "id": "f2YZeABzsjWU"
      },
      "source": [
        "ytest_pred = []\n",
        "for rows in model.predict(xtest_n):\n",
        "    ytest_pred.append(np.argmax(rows))"
      ],
      "execution_count": 14,
      "outputs": []
    },
    {
      "cell_type": "code",
      "metadata": {
        "colab": {
          "base_uri": "https://localhost:8080/"
        },
        "id": "FRp4F_D4vo1O",
        "outputId": "fd40f3ed-1aed-47bb-909c-be63967ea237"
      },
      "source": [
        "from sklearn.metrics import confusion_matrix\n",
        "confusion_matrix(ytest,ytest_pred)"
      ],
      "execution_count": 15,
      "outputs": [
        {
          "output_type": "execute_result",
          "data": {
            "text/plain": [
              "array([[ 0,  0, 29],\n",
              "       [ 0,  0, 27],\n",
              "       [ 0,  0, 20]])"
            ]
          },
          "metadata": {
            "tags": []
          },
          "execution_count": 15
        }
      ]
    }
  ]
}