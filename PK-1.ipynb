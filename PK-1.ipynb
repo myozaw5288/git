{
  "nbformat": 4,
  "nbformat_minor": 0,
  "metadata": {
    "colab": {
      "name": "PK-1.ipynb",
      "provenance": [],
      "authorship_tag": "ABX9TyNCdE22mTn3hb7yMccMY5ZS",
      "include_colab_link": true
    },
    "kernelspec": {
      "name": "python3",
      "display_name": "Python 3"
    },
    "language_info": {
      "name": "python"
    }
  },
  "cells": [
    {
      "cell_type": "markdown",
      "metadata": {
        "id": "view-in-github",
        "colab_type": "text"
      },
      "source": [
        "<a href=\"https://colab.research.google.com/github/myozaw5288/git/blob/master/PK-1.ipynb\" target=\"_parent\"><img src=\"https://colab.research.google.com/assets/colab-badge.svg\" alt=\"Open In Colab\"/></a>"
      ]
    },
    {
      "cell_type": "code",
      "metadata": {
        "id": "FFgb8Afx_XCd"
      },
      "source": [
        "import numpy as np\n",
        "import pandas as pd\n",
        "import seaborn as sns\n",
        "import matplotlib.pyplot as plt\n",
        "from sklearn.datasets import load_wine\n",
        "from sklearn.datasets import load_boston\n",
        "import scipy.stats as stats\n",
        "from sklearn.svm import SVR\n",
        "from sklearn.svm import LinearSVC\n",
        "from sklearn.feature_selection import SelectFromModel\n",
        "from sklearn.linear_model import Lasso\n",
        "from sklearn.linear_model import LogisticRegression\n",
        "from sklearn.neighbors import KNeighborsClassifier\n",
        "from sklearn.neighbors import KNeighborsRegressor\n",
        "from sklearn.tree import DecisionTreeClassifier\n",
        "from sklearn.ensemble import RandomForestClassifier\n",
        "from sklearn.ensemble import GradientBoostingClassifier\n",
        "from sklearn.tree import DecisionTreeRegressor\n",
        "from sklearn.ensemble import RandomForestRegressor\n",
        "from sklearn.ensemble import GradientBoostingRegressor\n",
        "from sklearn.metrics import mean_squared_error\n",
        "from sklearn.model_selection import train_test_split\n",
        "from sklearn.feature_selection import VarianceThreshold\n",
        "from sklearn.feature_selection import mutual_info_classif, mutual_info_regression\n",
        "from sklearn.feature_selection import SelectKBest, SelectPercentile\n",
        "from IPython.display import Image\n",
        "%matplotlib inline \n",
        "sns.set(style=\"ticks\")\n"
      ],
      "execution_count": 45,
      "outputs": []
    },
    {
      "cell_type": "code",
      "metadata": {
        "id": "PSQ7xbZC_1sC"
      },
      "source": [
        "def diagnostic_plots(df, variable):\n",
        "    plt.figure(figsize=(15,6))\n",
        "    # гистограмма\n",
        "    plt.subplot(1, 2, 1)\n",
        "    df[variable].hist(bins=30)\n",
        "    ## Q-Q plot\n",
        "    plt.subplot(1, 2, 2)\n",
        "    stats.probplot(df[variable], dist=\"norm\", plot=plt)\n",
        "    plt.show()"
      ],
      "execution_count": 46,
      "outputs": []
    },
    {
      "cell_type": "code",
      "metadata": {
        "id": "MVrwBsGF_8BB"
      },
      "source": [
        "# Будем использовать только обучающую выборку\n",
        "dataset = pd.read_csv('./weatherAUS.csv', sep=\",\")"
      ],
      "execution_count": 47,
      "outputs": []
    },
    {
      "cell_type": "code",
      "metadata": {
        "colab": {
          "base_uri": "https://localhost:8080/",
          "height": 531
        },
        "id": "68jMlPR9ABfH",
        "outputId": "79054232-ea90-43ed-a88e-9368b1cb9b75"
      },
      "source": [
        "dataset.head(10)"
      ],
      "execution_count": 48,
      "outputs": [
        {
          "output_type": "execute_result",
          "data": {
            "text/html": [
              "<div>\n",
              "<style scoped>\n",
              "    .dataframe tbody tr th:only-of-type {\n",
              "        vertical-align: middle;\n",
              "    }\n",
              "\n",
              "    .dataframe tbody tr th {\n",
              "        vertical-align: top;\n",
              "    }\n",
              "\n",
              "    .dataframe thead th {\n",
              "        text-align: right;\n",
              "    }\n",
              "</style>\n",
              "<table border=\"1\" class=\"dataframe\">\n",
              "  <thead>\n",
              "    <tr style=\"text-align: right;\">\n",
              "      <th></th>\n",
              "      <th>Date</th>\n",
              "      <th>Location</th>\n",
              "      <th>MinTemp</th>\n",
              "      <th>MaxTemp</th>\n",
              "      <th>Rainfall</th>\n",
              "      <th>Evaporation</th>\n",
              "      <th>Sunshine</th>\n",
              "      <th>WindGustDir</th>\n",
              "      <th>WindGustSpeed</th>\n",
              "      <th>WindDir9am</th>\n",
              "      <th>WindDir3pm</th>\n",
              "      <th>WindSpeed9am</th>\n",
              "      <th>WindSpeed3pm</th>\n",
              "      <th>Humidity9am</th>\n",
              "      <th>Humidity3pm</th>\n",
              "      <th>Pressure9am</th>\n",
              "      <th>Pressure3pm</th>\n",
              "      <th>Cloud9am</th>\n",
              "      <th>Cloud3pm</th>\n",
              "      <th>Temp9am</th>\n",
              "      <th>Temp3pm</th>\n",
              "      <th>RainToday</th>\n",
              "      <th>RainTomorrow</th>\n",
              "    </tr>\n",
              "  </thead>\n",
              "  <tbody>\n",
              "    <tr>\n",
              "      <th>0</th>\n",
              "      <td>2008-12-01</td>\n",
              "      <td>Albury</td>\n",
              "      <td>13.400</td>\n",
              "      <td>22.900</td>\n",
              "      <td>0.600</td>\n",
              "      <td>nan</td>\n",
              "      <td>nan</td>\n",
              "      <td>W</td>\n",
              "      <td>44.000</td>\n",
              "      <td>W</td>\n",
              "      <td>WNW</td>\n",
              "      <td>20.000</td>\n",
              "      <td>24.000</td>\n",
              "      <td>71.000</td>\n",
              "      <td>22.000</td>\n",
              "      <td>1007.700</td>\n",
              "      <td>1007.100</td>\n",
              "      <td>8.000</td>\n",
              "      <td>nan</td>\n",
              "      <td>16.900</td>\n",
              "      <td>21.800</td>\n",
              "      <td>No</td>\n",
              "      <td>No</td>\n",
              "    </tr>\n",
              "    <tr>\n",
              "      <th>1</th>\n",
              "      <td>2008-12-02</td>\n",
              "      <td>Albury</td>\n",
              "      <td>7.400</td>\n",
              "      <td>25.100</td>\n",
              "      <td>0.000</td>\n",
              "      <td>nan</td>\n",
              "      <td>nan</td>\n",
              "      <td>WNW</td>\n",
              "      <td>44.000</td>\n",
              "      <td>NNW</td>\n",
              "      <td>WSW</td>\n",
              "      <td>4.000</td>\n",
              "      <td>22.000</td>\n",
              "      <td>44.000</td>\n",
              "      <td>25.000</td>\n",
              "      <td>1010.600</td>\n",
              "      <td>1007.800</td>\n",
              "      <td>nan</td>\n",
              "      <td>nan</td>\n",
              "      <td>17.200</td>\n",
              "      <td>24.300</td>\n",
              "      <td>No</td>\n",
              "      <td>No</td>\n",
              "    </tr>\n",
              "    <tr>\n",
              "      <th>2</th>\n",
              "      <td>2008-12-03</td>\n",
              "      <td>Albury</td>\n",
              "      <td>12.900</td>\n",
              "      <td>25.700</td>\n",
              "      <td>0.000</td>\n",
              "      <td>nan</td>\n",
              "      <td>nan</td>\n",
              "      <td>WSW</td>\n",
              "      <td>46.000</td>\n",
              "      <td>W</td>\n",
              "      <td>WSW</td>\n",
              "      <td>19.000</td>\n",
              "      <td>26.000</td>\n",
              "      <td>38.000</td>\n",
              "      <td>30.000</td>\n",
              "      <td>1007.600</td>\n",
              "      <td>1008.700</td>\n",
              "      <td>nan</td>\n",
              "      <td>2.000</td>\n",
              "      <td>21.000</td>\n",
              "      <td>23.200</td>\n",
              "      <td>No</td>\n",
              "      <td>No</td>\n",
              "    </tr>\n",
              "    <tr>\n",
              "      <th>3</th>\n",
              "      <td>2008-12-04</td>\n",
              "      <td>Albury</td>\n",
              "      <td>9.200</td>\n",
              "      <td>28.000</td>\n",
              "      <td>0.000</td>\n",
              "      <td>nan</td>\n",
              "      <td>nan</td>\n",
              "      <td>NE</td>\n",
              "      <td>24.000</td>\n",
              "      <td>SE</td>\n",
              "      <td>E</td>\n",
              "      <td>11.000</td>\n",
              "      <td>9.000</td>\n",
              "      <td>45.000</td>\n",
              "      <td>16.000</td>\n",
              "      <td>1017.600</td>\n",
              "      <td>1012.800</td>\n",
              "      <td>nan</td>\n",
              "      <td>nan</td>\n",
              "      <td>18.100</td>\n",
              "      <td>26.500</td>\n",
              "      <td>No</td>\n",
              "      <td>No</td>\n",
              "    </tr>\n",
              "    <tr>\n",
              "      <th>4</th>\n",
              "      <td>2008-12-05</td>\n",
              "      <td>Albury</td>\n",
              "      <td>17.500</td>\n",
              "      <td>32.300</td>\n",
              "      <td>1.000</td>\n",
              "      <td>nan</td>\n",
              "      <td>nan</td>\n",
              "      <td>W</td>\n",
              "      <td>41.000</td>\n",
              "      <td>ENE</td>\n",
              "      <td>NW</td>\n",
              "      <td>7.000</td>\n",
              "      <td>20.000</td>\n",
              "      <td>82.000</td>\n",
              "      <td>33.000</td>\n",
              "      <td>1010.800</td>\n",
              "      <td>1006.000</td>\n",
              "      <td>7.000</td>\n",
              "      <td>8.000</td>\n",
              "      <td>17.800</td>\n",
              "      <td>29.700</td>\n",
              "      <td>No</td>\n",
              "      <td>No</td>\n",
              "    </tr>\n",
              "    <tr>\n",
              "      <th>5</th>\n",
              "      <td>2008-12-06</td>\n",
              "      <td>Albury</td>\n",
              "      <td>14.600</td>\n",
              "      <td>29.700</td>\n",
              "      <td>0.200</td>\n",
              "      <td>nan</td>\n",
              "      <td>nan</td>\n",
              "      <td>WNW</td>\n",
              "      <td>56.000</td>\n",
              "      <td>W</td>\n",
              "      <td>W</td>\n",
              "      <td>19.000</td>\n",
              "      <td>24.000</td>\n",
              "      <td>55.000</td>\n",
              "      <td>23.000</td>\n",
              "      <td>1009.200</td>\n",
              "      <td>1005.400</td>\n",
              "      <td>nan</td>\n",
              "      <td>nan</td>\n",
              "      <td>20.600</td>\n",
              "      <td>28.900</td>\n",
              "      <td>No</td>\n",
              "      <td>No</td>\n",
              "    </tr>\n",
              "    <tr>\n",
              "      <th>6</th>\n",
              "      <td>2008-12-07</td>\n",
              "      <td>Albury</td>\n",
              "      <td>14.300</td>\n",
              "      <td>25.000</td>\n",
              "      <td>0.000</td>\n",
              "      <td>nan</td>\n",
              "      <td>nan</td>\n",
              "      <td>W</td>\n",
              "      <td>50.000</td>\n",
              "      <td>SW</td>\n",
              "      <td>W</td>\n",
              "      <td>20.000</td>\n",
              "      <td>24.000</td>\n",
              "      <td>49.000</td>\n",
              "      <td>19.000</td>\n",
              "      <td>1009.600</td>\n",
              "      <td>1008.200</td>\n",
              "      <td>1.000</td>\n",
              "      <td>nan</td>\n",
              "      <td>18.100</td>\n",
              "      <td>24.600</td>\n",
              "      <td>No</td>\n",
              "      <td>No</td>\n",
              "    </tr>\n",
              "    <tr>\n",
              "      <th>7</th>\n",
              "      <td>2008-12-08</td>\n",
              "      <td>Albury</td>\n",
              "      <td>7.700</td>\n",
              "      <td>26.700</td>\n",
              "      <td>0.000</td>\n",
              "      <td>nan</td>\n",
              "      <td>nan</td>\n",
              "      <td>W</td>\n",
              "      <td>35.000</td>\n",
              "      <td>SSE</td>\n",
              "      <td>W</td>\n",
              "      <td>6.000</td>\n",
              "      <td>17.000</td>\n",
              "      <td>48.000</td>\n",
              "      <td>19.000</td>\n",
              "      <td>1013.400</td>\n",
              "      <td>1010.100</td>\n",
              "      <td>nan</td>\n",
              "      <td>nan</td>\n",
              "      <td>16.300</td>\n",
              "      <td>25.500</td>\n",
              "      <td>No</td>\n",
              "      <td>No</td>\n",
              "    </tr>\n",
              "    <tr>\n",
              "      <th>8</th>\n",
              "      <td>2008-12-09</td>\n",
              "      <td>Albury</td>\n",
              "      <td>9.700</td>\n",
              "      <td>31.900</td>\n",
              "      <td>0.000</td>\n",
              "      <td>nan</td>\n",
              "      <td>nan</td>\n",
              "      <td>NNW</td>\n",
              "      <td>80.000</td>\n",
              "      <td>SE</td>\n",
              "      <td>NW</td>\n",
              "      <td>7.000</td>\n",
              "      <td>28.000</td>\n",
              "      <td>42.000</td>\n",
              "      <td>9.000</td>\n",
              "      <td>1008.900</td>\n",
              "      <td>1003.600</td>\n",
              "      <td>nan</td>\n",
              "      <td>nan</td>\n",
              "      <td>18.300</td>\n",
              "      <td>30.200</td>\n",
              "      <td>No</td>\n",
              "      <td>Yes</td>\n",
              "    </tr>\n",
              "    <tr>\n",
              "      <th>9</th>\n",
              "      <td>2008-12-10</td>\n",
              "      <td>Albury</td>\n",
              "      <td>13.100</td>\n",
              "      <td>30.100</td>\n",
              "      <td>1.400</td>\n",
              "      <td>nan</td>\n",
              "      <td>nan</td>\n",
              "      <td>W</td>\n",
              "      <td>28.000</td>\n",
              "      <td>S</td>\n",
              "      <td>SSE</td>\n",
              "      <td>15.000</td>\n",
              "      <td>11.000</td>\n",
              "      <td>58.000</td>\n",
              "      <td>27.000</td>\n",
              "      <td>1007.000</td>\n",
              "      <td>1005.700</td>\n",
              "      <td>nan</td>\n",
              "      <td>nan</td>\n",
              "      <td>20.100</td>\n",
              "      <td>28.200</td>\n",
              "      <td>Yes</td>\n",
              "      <td>No</td>\n",
              "    </tr>\n",
              "  </tbody>\n",
              "</table>\n",
              "</div>"
            ],
            "text/plain": [
              "         Date Location  MinTemp  ...  Temp3pm  RainToday  RainTomorrow\n",
              "0  2008-12-01   Albury   13.400  ...   21.800         No            No\n",
              "1  2008-12-02   Albury    7.400  ...   24.300         No            No\n",
              "2  2008-12-03   Albury   12.900  ...   23.200         No            No\n",
              "3  2008-12-04   Albury    9.200  ...   26.500         No            No\n",
              "4  2008-12-05   Albury   17.500  ...   29.700         No            No\n",
              "5  2008-12-06   Albury   14.600  ...   28.900         No            No\n",
              "6  2008-12-07   Albury   14.300  ...   24.600         No            No\n",
              "7  2008-12-08   Albury    7.700  ...   25.500         No            No\n",
              "8  2008-12-09   Albury    9.700  ...   30.200         No           Yes\n",
              "9  2008-12-10   Albury   13.100  ...   28.200        Yes            No\n",
              "\n",
              "[10 rows x 23 columns]"
            ]
          },
          "metadata": {
            "tags": []
          },
          "execution_count": 48
        }
      ]
    },
    {
      "cell_type": "code",
      "metadata": {
        "colab": {
          "base_uri": "https://localhost:8080/",
          "height": 318
        },
        "id": "J1CrRbbBD8yI",
        "outputId": "4d719011-209c-409b-98a0-9809ac1b342e"
      },
      "source": [
        "data['WindGustSpeed_boxcox'], param = stats.boxcox(data['WindGustSpeed']) \n",
        "print('Оптимальное значение λ = {}'.format(param))\n",
        "sns.scatterplot(x='WindGustSpeed',y='Rainfall',data=dataset)"
      ],
      "execution_count": 51,
      "outputs": [
        {
          "output_type": "stream",
          "text": [
            "Оптимальное значение λ = 8.472135811722177\n"
          ],
          "name": "stdout"
        },
        {
          "output_type": "execute_result",
          "data": {
            "text/plain": [
              "<matplotlib.axes._subplots.AxesSubplot at 0x7faf57f4db90>"
            ]
          },
          "metadata": {
            "tags": []
          },
          "execution_count": 51
        },
        {
          "output_type": "display_data",
          "data": {
            "image/png": "[encoded data removed]",
            "text/plain": [
              "<Figure size 432x288 with 1 Axes>"
            ]
          },
          "metadata": {
            "tags": []
          }
        }
      ]
    },
    {
      "cell_type": "code",
      "metadata": {
        "id": "I995aQ67EDrS"
      },
      "source": [
        "wine = load_wine()\n",
        "wine_X = wine.data\n",
        "wine_y = wine.target\n",
        "wine_feature_names = wine['feature_names']\n",
        "wine_x_df = pd.DataFrame(data=wine['data'], columns=wine['feature_names'])"
      ],
      "execution_count": 53,
      "outputs": []
    },
    {
      "cell_type": "code",
      "metadata": {
        "id": "qwZPayU8Jngc"
      },
      "source": [
        "\n",
        "boston = load_boston()\n",
        "boston_X = boston.data\n",
        "boston_y = boston.target\n",
        "boston_feature_names = boston['feature_names']\n",
        "boston_x_df = pd.DataFrame(data=boston['data'], columns=boston['feature_names'])"
      ],
      "execution_count": 54,
      "outputs": []
    },
    {
      "cell_type": "code",
      "metadata": {
        "colab": {
          "base_uri": "https://localhost:8080/"
        },
        "id": "xSOyJHNiJrjN",
        "outputId": "e25409fd-9438-42ad-91db-2644433649dd"
      },
      "source": [
        "sel_mi = SelectKBest(mutual_info_regression, k=5).fit(wine_X, wine_y)\n",
        "\n",
        "list(zip(boston_feature_names, sel_mi.get_support()))"
      ],
      "execution_count": 55,
      "outputs": [
        {
          "output_type": "execute_result",
          "data": {
            "text/plain": [
              "[('CRIM', True),\n",
              " ('ZN', False),\n",
              " ('INDUS', False),\n",
              " ('CHAS', False),\n",
              " ('NOX', False),\n",
              " ('RM', False),\n",
              " ('AGE', True),\n",
              " ('DIS', False),\n",
              " ('RAD', False),\n",
              " ('TAX', True),\n",
              " ('PTRATIO', False),\n",
              " ('B', True),\n",
              " ('LSTAT', True)]"
            ]
          },
          "metadata": {
            "tags": []
          },
          "execution_count": 55
        }
      ]
    },
    {
      "cell_type": "code",
      "metadata": {
        "colab": {
          "base_uri": "https://localhost:8080/"
        },
        "id": "MhNIA0lRMbCn",
        "outputId": "0551645e-0d96-4aef-b357-561df7202540"
      },
      "source": [
        "boston_feature_names[sel_mi.get_support()]"
      ],
      "execution_count": 56,
      "outputs": [
        {
          "output_type": "execute_result",
          "data": {
            "text/plain": [
              "array(['CRIM', 'AGE', 'TAX', 'B', 'LSTAT'], dtype='<U7')"
            ]
          },
          "metadata": {
            "tags": []
          },
          "execution_count": 56
        }
      ]
    }
  ]
}